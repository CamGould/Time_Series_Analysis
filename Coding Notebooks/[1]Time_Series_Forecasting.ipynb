{
 "cells": [
  {
   "cell_type": "markdown",
   "id": "1dcbd1eb-d13f-45ee-906c-d351664a58fd",
   "metadata": {},
   "source": [
    "# A Yen for the Future "
   ]
  },
  {
   "cell_type": "markdown",
   "id": "fdeaa803-37aa-490c-b72b-e97784e968c5",
   "metadata": {},
   "source": [
    "## *A Time-Series Analysis Project*"
   ]
  },
  {
   "cell_type": "code",
   "execution_count": 2,
   "id": "b4ab2025-2b67-4bbe-8cbd-4e32480f7ae7",
   "metadata": {},
   "outputs": [],
   "source": [
    "# Import the requirements - ignore the warnings \n",
    "import numpy as np\n",
    "import pandas as pd\n",
    "from pathlib import Path\n",
    "%matplotlib inline\n",
    "import matplotlib.pyplot as plt\n",
    "import warnings\n",
    "warnings.simplefilter(action='ignore', category=Warning)"
   ]
  },
  {
   "cell_type": "markdown",
   "id": "552d297d-2343-4191-9ca5-2a05096139a5",
   "metadata": {},
   "source": [
    "## Return Forecasting - Time Series Analysis & Modelling with CAD-JPY Exchange Rate Data "
   ]
  },
  {
   "cell_type": "markdown",
   "id": "5d2907cf-c961-498a-9791-84b4f6e328df",
   "metadata": {},
   "source": [
    "##### In this notebook I will run an analysis to determine if there is any predictable behaviour within the CAD-JPY historical exchange rate "
   ]
  },
  {
   "cell_type": "code",
   "execution_count": 3,
   "id": "60ab7f4a-0742-4724-b9d1-202ba1f90fe8",
   "metadata": {},
   "outputs": [
    {
     "data": {
      "text/html": [
       "<div>\n",
       "<style scoped>\n",
       "    .dataframe tbody tr th:only-of-type {\n",
       "        vertical-align: middle;\n",
       "    }\n",
       "\n",
       "    .dataframe tbody tr th {\n",
       "        vertical-align: top;\n",
       "    }\n",
       "\n",
       "    .dataframe thead th {\n",
       "        text-align: right;\n",
       "    }\n",
       "</style>\n",
       "<table border=\"1\" class=\"dataframe\">\n",
       "  <thead>\n",
       "    <tr style=\"text-align: right;\">\n",
       "      <th></th>\n",
       "      <th>Price</th>\n",
       "      <th>Open</th>\n",
       "      <th>High</th>\n",
       "      <th>Low</th>\n",
       "    </tr>\n",
       "    <tr>\n",
       "      <th>Date</th>\n",
       "      <th></th>\n",
       "      <th></th>\n",
       "      <th></th>\n",
       "      <th></th>\n",
       "    </tr>\n",
       "  </thead>\n",
       "  <tbody>\n",
       "    <tr>\n",
       "      <th>1982-01-05</th>\n",
       "      <td>184.65</td>\n",
       "      <td>184.65</td>\n",
       "      <td>184.65</td>\n",
       "      <td>184.65</td>\n",
       "    </tr>\n",
       "    <tr>\n",
       "      <th>1982-01-06</th>\n",
       "      <td>185.06</td>\n",
       "      <td>185.06</td>\n",
       "      <td>185.06</td>\n",
       "      <td>185.06</td>\n",
       "    </tr>\n",
       "    <tr>\n",
       "      <th>1982-01-07</th>\n",
       "      <td>186.88</td>\n",
       "      <td>186.88</td>\n",
       "      <td>186.88</td>\n",
       "      <td>186.88</td>\n",
       "    </tr>\n",
       "    <tr>\n",
       "      <th>1982-01-08</th>\n",
       "      <td>186.58</td>\n",
       "      <td>186.58</td>\n",
       "      <td>186.58</td>\n",
       "      <td>186.58</td>\n",
       "    </tr>\n",
       "    <tr>\n",
       "      <th>1982-01-11</th>\n",
       "      <td>187.64</td>\n",
       "      <td>187.64</td>\n",
       "      <td>187.64</td>\n",
       "      <td>187.64</td>\n",
       "    </tr>\n",
       "    <tr>\n",
       "      <th>1982-01-12</th>\n",
       "      <td>187.20</td>\n",
       "      <td>187.20</td>\n",
       "      <td>187.20</td>\n",
       "      <td>187.20</td>\n",
       "    </tr>\n",
       "    <tr>\n",
       "      <th>1982-01-13</th>\n",
       "      <td>188.35</td>\n",
       "      <td>188.35</td>\n",
       "      <td>188.35</td>\n",
       "      <td>188.35</td>\n",
       "    </tr>\n",
       "    <tr>\n",
       "      <th>1982-01-14</th>\n",
       "      <td>187.96</td>\n",
       "      <td>187.96</td>\n",
       "      <td>187.96</td>\n",
       "      <td>187.96</td>\n",
       "    </tr>\n",
       "    <tr>\n",
       "      <th>1982-01-15</th>\n",
       "      <td>187.88</td>\n",
       "      <td>187.88</td>\n",
       "      <td>187.88</td>\n",
       "      <td>187.88</td>\n",
       "    </tr>\n",
       "    <tr>\n",
       "      <th>1982-01-18</th>\n",
       "      <td>188.43</td>\n",
       "      <td>188.43</td>\n",
       "      <td>188.43</td>\n",
       "      <td>188.43</td>\n",
       "    </tr>\n",
       "  </tbody>\n",
       "</table>\n",
       "</div>"
      ],
      "text/plain": [
       "             Price    Open    High     Low\n",
       "Date                                      \n",
       "1982-01-05  184.65  184.65  184.65  184.65\n",
       "1982-01-06  185.06  185.06  185.06  185.06\n",
       "1982-01-07  186.88  186.88  186.88  186.88\n",
       "1982-01-08  186.58  186.58  186.58  186.58\n",
       "1982-01-11  187.64  187.64  187.64  187.64\n",
       "1982-01-12  187.20  187.20  187.20  187.20\n",
       "1982-01-13  188.35  188.35  188.35  188.35\n",
       "1982-01-14  187.96  187.96  187.96  187.96\n",
       "1982-01-15  187.88  187.88  187.88  187.88\n",
       "1982-01-18  188.43  188.43  188.43  188.43"
      ]
     },
     "execution_count": 3,
     "metadata": {},
     "output_type": "execute_result"
    }
   ],
   "source": [
    "# Load in the data for the historical exchange rate between CAD & JPY\n",
    "cad_jpy_df = pd.read_csv(\n",
    "    Path(\"cad_jpy.csv\"), index_col=\"Date\", infer_datetime_format=True, parse_dates=True)\n",
    "\n",
    "#View the data\n",
    "cad_jpy_df.head(10)"
   ]
  },
  {
   "cell_type": "code",
   "execution_count": 4,
   "id": "dc611b6b-75e7-420b-ab64-479f81c98504",
   "metadata": {},
   "outputs": [
    {
     "data": {
      "text/html": [
       "<div>\n",
       "<style scoped>\n",
       "    .dataframe tbody tr th:only-of-type {\n",
       "        vertical-align: middle;\n",
       "    }\n",
       "\n",
       "    .dataframe tbody tr th {\n",
       "        vertical-align: top;\n",
       "    }\n",
       "\n",
       "    .dataframe thead th {\n",
       "        text-align: right;\n",
       "    }\n",
       "</style>\n",
       "<table border=\"1\" class=\"dataframe\">\n",
       "  <thead>\n",
       "    <tr style=\"text-align: right;\">\n",
       "      <th></th>\n",
       "      <th>Price</th>\n",
       "      <th>Open</th>\n",
       "      <th>High</th>\n",
       "      <th>Low</th>\n",
       "    </tr>\n",
       "    <tr>\n",
       "      <th>Date</th>\n",
       "      <th></th>\n",
       "      <th></th>\n",
       "      <th></th>\n",
       "      <th></th>\n",
       "    </tr>\n",
       "  </thead>\n",
       "  <tbody>\n",
       "    <tr>\n",
       "      <th>1990-01-02</th>\n",
       "      <td>126.37</td>\n",
       "      <td>126.31</td>\n",
       "      <td>126.37</td>\n",
       "      <td>126.31</td>\n",
       "    </tr>\n",
       "    <tr>\n",
       "      <th>1990-01-03</th>\n",
       "      <td>125.30</td>\n",
       "      <td>125.24</td>\n",
       "      <td>125.30</td>\n",
       "      <td>125.24</td>\n",
       "    </tr>\n",
       "    <tr>\n",
       "      <th>1990-01-04</th>\n",
       "      <td>123.46</td>\n",
       "      <td>123.41</td>\n",
       "      <td>123.46</td>\n",
       "      <td>123.41</td>\n",
       "    </tr>\n",
       "    <tr>\n",
       "      <th>1990-01-05</th>\n",
       "      <td>124.54</td>\n",
       "      <td>124.48</td>\n",
       "      <td>124.54</td>\n",
       "      <td>124.48</td>\n",
       "    </tr>\n",
       "    <tr>\n",
       "      <th>1990-01-08</th>\n",
       "      <td>124.27</td>\n",
       "      <td>124.21</td>\n",
       "      <td>124.27</td>\n",
       "      <td>124.21</td>\n",
       "    </tr>\n",
       "    <tr>\n",
       "      <th>1990-01-09</th>\n",
       "      <td>125.10</td>\n",
       "      <td>125.04</td>\n",
       "      <td>125.10</td>\n",
       "      <td>125.04</td>\n",
       "    </tr>\n",
       "    <tr>\n",
       "      <th>1990-01-10</th>\n",
       "      <td>125.81</td>\n",
       "      <td>125.75</td>\n",
       "      <td>125.81</td>\n",
       "      <td>125.75</td>\n",
       "    </tr>\n",
       "    <tr>\n",
       "      <th>1990-01-11</th>\n",
       "      <td>125.85</td>\n",
       "      <td>125.80</td>\n",
       "      <td>125.85</td>\n",
       "      <td>125.80</td>\n",
       "    </tr>\n",
       "    <tr>\n",
       "      <th>1990-01-12</th>\n",
       "      <td>126.00</td>\n",
       "      <td>125.94</td>\n",
       "      <td>126.00</td>\n",
       "      <td>125.94</td>\n",
       "    </tr>\n",
       "    <tr>\n",
       "      <th>1990-01-15</th>\n",
       "      <td>125.22</td>\n",
       "      <td>125.16</td>\n",
       "      <td>125.22</td>\n",
       "      <td>125.16</td>\n",
       "    </tr>\n",
       "  </tbody>\n",
       "</table>\n",
       "</div>"
      ],
      "text/plain": [
       "             Price    Open    High     Low\n",
       "Date                                      \n",
       "1990-01-02  126.37  126.31  126.37  126.31\n",
       "1990-01-03  125.30  125.24  125.30  125.24\n",
       "1990-01-04  123.46  123.41  123.46  123.41\n",
       "1990-01-05  124.54  124.48  124.54  124.48\n",
       "1990-01-08  124.27  124.21  124.27  124.21\n",
       "1990-01-09  125.10  125.04  125.10  125.04\n",
       "1990-01-10  125.81  125.75  125.81  125.75\n",
       "1990-01-11  125.85  125.80  125.85  125.80\n",
       "1990-01-12  126.00  125.94  126.00  125.94\n",
       "1990-01-15  125.22  125.16  125.22  125.16"
      ]
     },
     "execution_count": 4,
     "metadata": {},
     "output_type": "execute_result"
    }
   ],
   "source": [
    "# Clean the dataset to start on January 1st, 1990\n",
    "cad_jpy_df = cad_jpy_df.loc[\"1990-01-01\":, :]\n",
    "\n",
    "# View the data\n",
    "cad_jpy_df.head(10)"
   ]
  },
  {
   "cell_type": "markdown",
   "id": "914c6a16-7bad-4094-b272-7f6768b05b2d",
   "metadata": {},
   "source": [
    "## Initial Time-Series Graphing"
   ]
  },
  {
   "cell_type": "markdown",
   "id": "641206ab-ea7a-46b0-9aa0-2574de6d9889",
   "metadata": {},
   "source": [
    "##### I will start b y plotting the \"Settle\" price & look for any patterns over the long and short term"
   ]
  },
  {
   "cell_type": "code",
   "execution_count": 5,
   "id": "15deb708-7eee-4e32-99d2-17adfa569415",
   "metadata": {},
   "outputs": [
    {
     "data": {
      "image/png": "[encoded data removed]",
      "text/plain": [
       "<Figure size 864x576 with 1 Axes>"
      ]
     },
     "metadata": {
      "needs_background": "light"
     },
     "output_type": "display_data"
    }
   ],
   "source": [
    "# Graph the \"Price\" column from the data\n",
    "title = 'CAD/JPY Exchange Rates'\n",
    "cad_jpy_df['Price'].plot(figsize = (12,8), title = title, legend = True)\n",
    "\n",
    "# Display the graph\n",
    "plt.show()"
   ]
  },
  {
   "cell_type": "markdown",
   "id": "a1a0df6e-d574-4590-bb81-d8210b2e6343",
   "metadata": {},
   "source": [
    "##### Are there any patterns in the short or long term that can be observed?"
   ]
  },
  {
   "cell_type": "markdown",
   "id": "98b9850f-f125-4fea-b447-70539b74e477",
   "metadata": {},
   "source": [
    "##### Overall, from the beginning of the data (1990) to the end (2020) we can observe an overall downtrend, meaning that the exchange rate between CAD & JPY has decreased. Throughout the years the exchange rate has been relatively volitile, decreasing rapidly from ~1992 to ~1996, increasing unevenly until ~2008, then decreasing in waves until 2020"
   ]
  },
  {
   "cell_type": "markdown",
   "id": "fa3ec961-fd75-4de2-88b3-cce8834de5f4",
   "metadata": {},
   "source": [
    "### Decomposition Using a Hodrick-Prescott Filter"
   ]
  },
  {
   "cell_type": "markdown",
   "id": "ebbed6b0-641e-4717-8173-6ef0787ad945",
   "metadata": {},
   "source": [
    "##### Here I will use a Hodrick-Prescott Filter to decompose the exchange rate price into trend and noise"
   ]
  },
  {
   "cell_type": "code",
   "execution_count": 6,
   "id": "43bb741c-2e93-4a3f-9a37-643a479bf5d1",
   "metadata": {},
   "outputs": [],
   "source": [
    "# Import the required library to run HPF\n",
    "import statsmodels.api as sm\n",
    "\n",
    "# Apply the Hodrick-Prescott Filter by decomposing the exchange rate price into two separate series:\n",
    "noise, trend = sm.tsa.filters.hpfilter(cad_jpy_df['Price'])"
   ]
  },
  {
   "cell_type": "code",
   "execution_count": 7,
   "id": "2ae42ef1-dc0a-43b3-98fe-4502a06db999",
   "metadata": {},
   "outputs": [
    {
     "data": {
      "text/plain": [
       "<AxesSubplot:xlabel='Date'>"
      ]
     },
     "execution_count": 7,
     "metadata": {},
     "output_type": "execute_result"
    },
    {
     "data": {
      "image/png": "[encoded data removed]",
      "text/plain": [
       "<Figure size 432x288 with 1 Axes>"
      ]
     },
     "metadata": {
      "needs_background": "light"
     },
     "output_type": "display_data"
    }
   ],
   "source": [
    "# Show the graphs displaying the noise\n",
    "noise.plot()"
   ]
  },
  {
   "cell_type": "code",
   "execution_count": 8,
   "id": "ea183896-3815-4dbd-8c68-9535ffc7dc3d",
   "metadata": {},
   "outputs": [
    {
     "data": {
      "text/plain": [
       "<AxesSubplot:xlabel='Date'>"
      ]
     },
     "execution_count": 8,
     "metadata": {},
     "output_type": "execute_result"
    },
    {
     "data": {
      "image/png": "[encoded data removed]",
      "text/plain": [
       "<Figure size 432x288 with 1 Axes>"
      ]
     },
     "metadata": {
      "needs_background": "light"
     },
     "output_type": "display_data"
    }
   ],
   "source": [
    "# Show the graphs displaying the trend\n",
    "trend.plot()"
   ]
  },
  {
   "cell_type": "markdown",
   "id": "9a73dfeb-3942-4af0-87b5-76010121335b",
   "metadata": {},
   "source": [
    "##### Can any patterns be observed in the short or long terms?"
   ]
  },
  {
   "cell_type": "markdown",
   "id": "c76b0e62-5df2-4123-8c10-0e172eac59b1",
   "metadata": {},
   "source": [
    "##### In general, we can observe that the noise increases around the same time the exchange hits either an upper or lower peak. We can see this occur around the years 2000 and 2008 demonstrated especially well."
   ]
  },
  {
   "cell_type": "markdown",
   "id": "90c9dd0c-3071-49a7-a3aa-0535e575f124",
   "metadata": {},
   "source": [
    "### Forcasting returns using an ARMA Model"
   ]
  },
  {
   "cell_type": "markdown",
   "id": "3194420d-fd0f-4879-8380-ca93881ed0ed",
   "metadata": {},
   "source": [
    "##### Using exchnage rate *returns*, estimate an ARMA Model"
   ]
  },
  {
   "cell_type": "markdown",
   "id": "8142750d-c134-4b5f-beb5-9205c07bdb8b",
   "metadata": {},
   "source": [
    "###### Criteria for the ARMA Model:"
   ]
  },
  {
   "cell_type": "markdown",
   "id": "e651caa2-f0ba-4477-a628-bfc8f45dccf1",
   "metadata": {},
   "source": [
    "###### - ARMA: Create an ARMA model and fit it to the returns data. Note: Set the AR and MA (\"p\" and \"q\") parameters to p=2 and q=1: order=(2, 1)"
   ]
  },
  {
   "cell_type": "code",
   "execution_count": 9,
   "id": "152155d3-3f7b-4a29-ba15-b665dfc1dcf8",
   "metadata": {},
   "outputs": [],
   "source": [
    "# Import the required library for the ARMA Model\n",
    "from statsmodels.tsa.arima.model import ARIMA\n",
    "\n",
    "# Import warnings to neglect warnings\n",
    "import warnings\n",
    "warnings.filterwarnings('ignore', 'statsmodels.tsa.arima_model.ARMA',\n",
    "                        FutureWarning)\n",
    "warnings.filterwarnings('ignore', 'statsmodels.tsa.arima_model.ARIMA',\n",
    "                        FutureWarning)"
   ]
  },
  {
   "cell_type": "code",
   "execution_count": 10,
   "id": "acb5f9b6-1fdb-4afb-8c72-806bc803b0b4",
   "metadata": {},
   "outputs": [
    {
     "data": {
      "text/html": [
       "<div>\n",
       "<style scoped>\n",
       "    .dataframe tbody tr th:only-of-type {\n",
       "        vertical-align: middle;\n",
       "    }\n",
       "\n",
       "    .dataframe tbody tr th {\n",
       "        vertical-align: top;\n",
       "    }\n",
       "\n",
       "    .dataframe thead th {\n",
       "        text-align: right;\n",
       "    }\n",
       "</style>\n",
       "<table border=\"1\" class=\"dataframe\">\n",
       "  <thead>\n",
       "    <tr style=\"text-align: right;\">\n",
       "      <th></th>\n",
       "      <th>Returns</th>\n",
       "    </tr>\n",
       "    <tr>\n",
       "      <th>Date</th>\n",
       "      <th></th>\n",
       "    </tr>\n",
       "  </thead>\n",
       "  <tbody>\n",
       "    <tr>\n",
       "      <th>2020-05-22</th>\n",
       "      <td>-0.311203</td>\n",
       "    </tr>\n",
       "    <tr>\n",
       "      <th>2020-05-25</th>\n",
       "      <td>0.169095</td>\n",
       "    </tr>\n",
       "    <tr>\n",
       "      <th>2020-05-26</th>\n",
       "      <td>1.350474</td>\n",
       "    </tr>\n",
       "    <tr>\n",
       "      <th>2020-05-27</th>\n",
       "      <td>0.345932</td>\n",
       "    </tr>\n",
       "    <tr>\n",
       "      <th>2020-05-28</th>\n",
       "      <td>-0.114913</td>\n",
       "    </tr>\n",
       "    <tr>\n",
       "      <th>2020-05-29</th>\n",
       "      <td>0.076697</td>\n",
       "    </tr>\n",
       "    <tr>\n",
       "      <th>2020-06-01</th>\n",
       "      <td>1.251756</td>\n",
       "    </tr>\n",
       "    <tr>\n",
       "      <th>2020-06-02</th>\n",
       "      <td>1.425508</td>\n",
       "    </tr>\n",
       "    <tr>\n",
       "      <th>2020-06-03</th>\n",
       "      <td>0.373134</td>\n",
       "    </tr>\n",
       "    <tr>\n",
       "      <th>2020-06-04</th>\n",
       "      <td>0.012392</td>\n",
       "    </tr>\n",
       "  </tbody>\n",
       "</table>\n",
       "</div>"
      ],
      "text/plain": [
       "             Returns\n",
       "Date                \n",
       "2020-05-22 -0.311203\n",
       "2020-05-25  0.169095\n",
       "2020-05-26  1.350474\n",
       "2020-05-27  0.345932\n",
       "2020-05-28 -0.114913\n",
       "2020-05-29  0.076697\n",
       "2020-06-01  1.251756\n",
       "2020-06-02  1.425508\n",
       "2020-06-03  0.373134\n",
       "2020-06-04  0.012392"
      ]
     },
     "execution_count": 10,
     "metadata": {},
     "output_type": "execute_result"
    }
   ],
   "source": [
    "# Create a series using \"Price\" percentage returns\n",
    "returns = (cad_jpy_df[[\"Price\"]].pct_change() * 100)\n",
    "\n",
    "# Drop any null values from this dataframe\n",
    "returns = returns.replace(-np.inf, np.nan).dropna()\n",
    "\n",
    "# Rename the price column \n",
    "returns = returns.rename(columns={'Price': 'Returns'})\n",
    "\n",
    "# View the data\n",
    "returns.tail(10)"
   ]
  },
  {
   "cell_type": "code",
   "execution_count": 11,
   "id": "6e015f63-4f40-4333-a276-4eca7e3b2ea4",
   "metadata": {},
   "outputs": [
    {
     "data": {
      "text/html": [
       "<table class=\"simpletable\">\n",
       "<caption>SARIMAX Results</caption>\n",
       "<tr>\n",
       "  <th>Dep. Variable:</th>           <td>y</td>        <th>  No. Observations:  </th>   <td>7928</td>   \n",
       "</tr>\n",
       "<tr>\n",
       "  <th>Model:</th>            <td>ARIMA(2, 0, 1)</td>  <th>  Log Likelihood     </th> <td>-9752.310</td>\n",
       "</tr>\n",
       "<tr>\n",
       "  <th>Date:</th>            <td>Wed, 20 Jul 2022</td> <th>  AIC                </th> <td>19514.620</td>\n",
       "</tr>\n",
       "<tr>\n",
       "  <th>Time:</th>                <td>23:11:05</td>     <th>  BIC                </th> <td>19549.511</td>\n",
       "</tr>\n",
       "<tr>\n",
       "  <th>Sample:</th>                  <td>0</td>        <th>  HQIC               </th> <td>19526.568</td>\n",
       "</tr>\n",
       "<tr>\n",
       "  <th></th>                      <td> - 7928</td>     <th>                     </th>     <td> </td>    \n",
       "</tr>\n",
       "<tr>\n",
       "  <th>Covariance Type:</th>        <td>opg</td>       <th>                     </th>     <td> </td>    \n",
       "</tr>\n",
       "</table>\n",
       "<table class=\"simpletable\">\n",
       "<tr>\n",
       "     <td></td>       <th>coef</th>     <th>std err</th>      <th>z</th>      <th>P>|z|</th>  <th>[0.025</th>    <th>0.975]</th>  \n",
       "</tr>\n",
       "<tr>\n",
       "  <th>const</th>  <td>   -0.0022</td> <td>    0.009</td> <td>   -0.237</td> <td> 0.813</td> <td>   -0.021</td> <td>    0.016</td>\n",
       "</tr>\n",
       "<tr>\n",
       "  <th>ar.L1</th>  <td>   -0.0152</td> <td>    3.499</td> <td>   -0.004</td> <td> 0.997</td> <td>   -6.873</td> <td>    6.843</td>\n",
       "</tr>\n",
       "<tr>\n",
       "  <th>ar.L2</th>  <td>   -0.0018</td> <td>    0.107</td> <td>   -0.017</td> <td> 0.987</td> <td>   -0.212</td> <td>    0.209</td>\n",
       "</tr>\n",
       "<tr>\n",
       "  <th>ma.L1</th>  <td>   -0.0153</td> <td>    3.499</td> <td>   -0.004</td> <td> 0.997</td> <td>   -6.874</td> <td>    6.844</td>\n",
       "</tr>\n",
       "<tr>\n",
       "  <th>sigma2</th> <td>    0.6855</td> <td>    0.006</td> <td>  122.678</td> <td> 0.000</td> <td>    0.675</td> <td>    0.696</td>\n",
       "</tr>\n",
       "</table>\n",
       "<table class=\"simpletable\">\n",
       "<tr>\n",
       "  <th>Ljung-Box (L1) (Q):</th>     <td>0.00</td> <th>  Jarque-Bera (JB):  </th> <td>11578.41</td>\n",
       "</tr>\n",
       "<tr>\n",
       "  <th>Prob(Q):</th>                <td>1.00</td> <th>  Prob(JB):          </th>   <td>0.00</td>  \n",
       "</tr>\n",
       "<tr>\n",
       "  <th>Heteroskedasticity (H):</th> <td>0.85</td> <th>  Skew:              </th>   <td>-0.38</td> \n",
       "</tr>\n",
       "<tr>\n",
       "  <th>Prob(H) (two-sided):</th>    <td>0.00</td> <th>  Kurtosis:          </th>   <td>8.87</td>  \n",
       "</tr>\n",
       "</table><br/><br/>Warnings:<br/>[1] Covariance matrix calculated using the outer product of gradients (complex-step)."
      ],
      "text/plain": [
       "<class 'statsmodels.iolib.summary.Summary'>\n",
       "\"\"\"\n",
       "                               SARIMAX Results                                \n",
       "==============================================================================\n",
       "Dep. Variable:                      y   No. Observations:                 7928\n",
       "Model:                 ARIMA(2, 0, 1)   Log Likelihood               -9752.310\n",
       "Date:                Wed, 20 Jul 2022   AIC                          19514.620\n",
       "Time:                        23:11:05   BIC                          19549.511\n",
       "Sample:                             0   HQIC                         19526.568\n",
       "                               - 7928                                         \n",
       "Covariance Type:                  opg                                         \n",
       "==============================================================================\n",
       "                 coef    std err          z      P>|z|      [0.025      0.975]\n",
       "------------------------------------------------------------------------------\n",
       "const         -0.0022      0.009     -0.237      0.813      -0.021       0.016\n",
       "ar.L1         -0.0152      3.499     -0.004      0.997      -6.873       6.843\n",
       "ar.L2         -0.0018      0.107     -0.017      0.987      -0.212       0.209\n",
       "ma.L1         -0.0153      3.499     -0.004      0.997      -6.874       6.844\n",
       "sigma2         0.6855      0.006    122.678      0.000       0.675       0.696\n",
       "===================================================================================\n",
       "Ljung-Box (L1) (Q):                   0.00   Jarque-Bera (JB):             11578.41\n",
       "Prob(Q):                              1.00   Prob(JB):                         0.00\n",
       "Heteroskedasticity (H):               0.85   Skew:                            -0.38\n",
       "Prob(H) (two-sided):                  0.00   Kurtosis:                         8.87\n",
       "===================================================================================\n",
       "\n",
       "Warnings:\n",
       "[1] Covariance matrix calculated using the outer product of gradients (complex-step).\n",
       "\"\"\""
      ]
     },
     "execution_count": 11,
     "metadata": {},
     "output_type": "execute_result"
    }
   ],
   "source": [
    "# Create an ARMA model using statsmodels [order=(2, 1)]\n",
    "model = ARIMA(returns.values, order=(2,0,1))\n",
    "\n",
    "# Fit the model and assign it to a variable called results\n",
    "results = model.fit()\n",
    "\n",
    "# Output model summary results:\n",
    "results.summary()"
   ]
  },
  {
   "cell_type": "code",
   "execution_count": 12,
   "id": "42ee5d74-446f-43b0-87c7-6f8ec1ee26e2",
   "metadata": {},
   "outputs": [
    {
     "data": {
      "text/plain": [
       "<AxesSubplot:>"
      ]
     },
     "execution_count": 12,
     "metadata": {},
     "output_type": "execute_result"
    },
    {
     "data": {
      "image/png": "[encoded data removed]",
      "text/plain": [
       "<Figure size 432x288 with 1 Axes>"
      ]
     },
     "metadata": {
      "needs_background": "light"
     },
     "output_type": "display_data"
    }
   ],
   "source": [
    "# Plot a forecast of the next five days returns \n",
    "fiveday_fc = results.forecast(5, alpha=0.05, )\n",
    "pd.DataFrame(fiveday_fc).plot()"
   ]
  },
  {
   "cell_type": "markdown",
   "id": "8badbf00-c514-49fc-a1f1-6fff8891133c",
   "metadata": {},
   "source": [
    "##### Based on the p-value, is the model a good fit?"
   ]
  },
  {
   "cell_type": "markdown",
   "id": "1710adcc-0869-4ffe-ba96-07a189eb1664",
   "metadata": {},
   "source": [
    "##### Due to the fact that the p-value is very large, we can conclude that the model is not a good fit."
   ]
  },
  {
   "cell_type": "markdown",
   "id": "abe50188-8648-407c-95a1-da74aa2013f1",
   "metadata": {},
   "source": [
    "### Forecasting the Exchange Rate Price Using an ARIMA Model"
   ]
  },
  {
   "cell_type": "markdown",
   "id": "032a2bfc-522f-4e38-b609-977e5b91d966",
   "metadata": {},
   "source": [
    "##### Use the raw CAD-JPY exchange rate prices to estimate an ARIMA model"
   ]
  },
  {
   "cell_type": "markdown",
   "id": "a6b1cd93-59ea-41c7-b919-b6e5f7dbff69",
   "metadata": {},
   "source": [
    "###### Criteria of the ARIMA Model:"
   ]
  },
  {
   "cell_type": "markdown",
   "id": "b38f0666-4b20-4228-b6ce-d38fd3d7b4cb",
   "metadata": {},
   "source": [
    "###### - Set P=5, D=1, and Q=1 in the model (e.g., ARIMA(df, order=(5,1,1))"
   ]
  },
  {
   "cell_type": "markdown",
   "id": "79cb22a9-4886-4f67-a381-1d72086a919c",
   "metadata": {},
   "source": [
    "###### - P is # of Auto-Regressive Lags, D is # of Differences (this is usually =1), Q is # of Moving Average Lags"
   ]
  },
  {
   "cell_type": "code",
   "execution_count": 13,
   "id": "0cb1ec7d-3c81-4bd9-a3d8-b3f8d05e07ce",
   "metadata": {},
   "outputs": [],
   "source": [
    "# Import the library needed for the ARIMA Model\n",
    "from statsmodels.tsa.arima.model import ARIMA"
   ]
  },
  {
   "cell_type": "code",
   "execution_count": 14,
   "id": "5f88ff5b-b873-4e2f-bd83-1ea1d6e7a617",
   "metadata": {},
   "outputs": [],
   "source": [
    "# Estimate an ARIMA Model:\n",
    "arima = ARIMA(returns.values, order=(5,1,1))"
   ]
  },
  {
   "cell_type": "code",
   "execution_count": 15,
   "id": "3cd5050a-76ea-4af3-b3e8-b97c5d6f3341",
   "metadata": {},
   "outputs": [],
   "source": [
    "# Fit the model\n",
    "results_arima = arima.fit()"
   ]
  },
  {
   "cell_type": "code",
   "execution_count": 16,
   "id": "c508d83e-1dc2-41f5-aca4-db495b4d3123",
   "metadata": {},
   "outputs": [
    {
     "data": {
      "text/html": [
       "<table class=\"simpletable\">\n",
       "<caption>SARIMAX Results</caption>\n",
       "<tr>\n",
       "  <th>Dep. Variable:</th>           <td>y</td>        <th>  No. Observations:  </th>   <td>7928</td>   \n",
       "</tr>\n",
       "<tr>\n",
       "  <th>Model:</th>            <td>ARIMA(5, 1, 1)</td>  <th>  Log Likelihood     </th> <td>-9754.288</td>\n",
       "</tr>\n",
       "<tr>\n",
       "  <th>Date:</th>            <td>Wed, 20 Jul 2022</td> <th>  AIC                </th> <td>19522.575</td>\n",
       "</tr>\n",
       "<tr>\n",
       "  <th>Time:</th>                <td>23:11:11</td>     <th>  BIC                </th> <td>19571.422</td>\n",
       "</tr>\n",
       "<tr>\n",
       "  <th>Sample:</th>                  <td>0</td>        <th>  HQIC               </th> <td>19539.302</td>\n",
       "</tr>\n",
       "<tr>\n",
       "  <th></th>                      <td> - 7928</td>     <th>                     </th>     <td> </td>    \n",
       "</tr>\n",
       "<tr>\n",
       "  <th>Covariance Type:</th>        <td>opg</td>       <th>                     </th>     <td> </td>    \n",
       "</tr>\n",
       "</table>\n",
       "<table class=\"simpletable\">\n",
       "<tr>\n",
       "     <td></td>       <th>coef</th>     <th>std err</th>      <th>z</th>      <th>P>|z|</th>  <th>[0.025</th>    <th>0.975]</th>  \n",
       "</tr>\n",
       "<tr>\n",
       "  <th>ar.L1</th>  <td>   -0.0303</td> <td>    0.007</td> <td>   -4.364</td> <td> 0.000</td> <td>   -0.044</td> <td>   -0.017</td>\n",
       "</tr>\n",
       "<tr>\n",
       "  <th>ar.L2</th>  <td>   -0.0025</td> <td>    0.007</td> <td>   -0.373</td> <td> 0.709</td> <td>   -0.016</td> <td>    0.011</td>\n",
       "</tr>\n",
       "<tr>\n",
       "  <th>ar.L3</th>  <td>   -0.0101</td> <td>    0.008</td> <td>   -1.270</td> <td> 0.204</td> <td>   -0.026</td> <td>    0.005</td>\n",
       "</tr>\n",
       "<tr>\n",
       "  <th>ar.L4</th>  <td>    0.0016</td> <td>    0.007</td> <td>    0.225</td> <td> 0.822</td> <td>   -0.012</td> <td>    0.015</td>\n",
       "</tr>\n",
       "<tr>\n",
       "  <th>ar.L5</th>  <td>   -0.0187</td> <td>    0.007</td> <td>   -2.709</td> <td> 0.007</td> <td>   -0.032</td> <td>   -0.005</td>\n",
       "</tr>\n",
       "<tr>\n",
       "  <th>ma.L1</th>  <td>   -1.0000</td> <td>    0.010</td> <td>  -98.701</td> <td> 0.000</td> <td>   -1.020</td> <td>   -0.980</td>\n",
       "</tr>\n",
       "<tr>\n",
       "  <th>sigma2</th> <td>    0.6853</td> <td>    0.010</td> <td>   71.710</td> <td> 0.000</td> <td>    0.667</td> <td>    0.704</td>\n",
       "</tr>\n",
       "</table>\n",
       "<table class=\"simpletable\">\n",
       "<tr>\n",
       "  <th>Ljung-Box (L1) (Q):</th>     <td>0.00</td> <th>  Jarque-Bera (JB):  </th> <td>11614.21</td>\n",
       "</tr>\n",
       "<tr>\n",
       "  <th>Prob(Q):</th>                <td>0.95</td> <th>  Prob(JB):          </th>   <td>0.00</td>  \n",
       "</tr>\n",
       "<tr>\n",
       "  <th>Heteroskedasticity (H):</th> <td>0.84</td> <th>  Skew:              </th>   <td>-0.39</td> \n",
       "</tr>\n",
       "<tr>\n",
       "  <th>Prob(H) (two-sided):</th>    <td>0.00</td> <th>  Kurtosis:          </th>   <td>8.88</td>  \n",
       "</tr>\n",
       "</table><br/><br/>Warnings:<br/>[1] Covariance matrix calculated using the outer product of gradients (complex-step)."
      ],
      "text/plain": [
       "<class 'statsmodels.iolib.summary.Summary'>\n",
       "\"\"\"\n",
       "                               SARIMAX Results                                \n",
       "==============================================================================\n",
       "Dep. Variable:                      y   No. Observations:                 7928\n",
       "Model:                 ARIMA(5, 1, 1)   Log Likelihood               -9754.288\n",
       "Date:                Wed, 20 Jul 2022   AIC                          19522.575\n",
       "Time:                        23:11:11   BIC                          19571.422\n",
       "Sample:                             0   HQIC                         19539.302\n",
       "                               - 7928                                         \n",
       "Covariance Type:                  opg                                         \n",
       "==============================================================================\n",
       "                 coef    std err          z      P>|z|      [0.025      0.975]\n",
       "------------------------------------------------------------------------------\n",
       "ar.L1         -0.0303      0.007     -4.364      0.000      -0.044      -0.017\n",
       "ar.L2         -0.0025      0.007     -0.373      0.709      -0.016       0.011\n",
       "ar.L3         -0.0101      0.008     -1.270      0.204      -0.026       0.005\n",
       "ar.L4          0.0016      0.007      0.225      0.822      -0.012       0.015\n",
       "ar.L5         -0.0187      0.007     -2.709      0.007      -0.032      -0.005\n",
       "ma.L1         -1.0000      0.010    -98.701      0.000      -1.020      -0.980\n",
       "sigma2         0.6853      0.010     71.710      0.000       0.667       0.704\n",
       "===================================================================================\n",
       "Ljung-Box (L1) (Q):                   0.00   Jarque-Bera (JB):             11614.21\n",
       "Prob(Q):                              0.95   Prob(JB):                         0.00\n",
       "Heteroskedasticity (H):               0.84   Skew:                            -0.39\n",
       "Prob(H) (two-sided):                  0.00   Kurtosis:                         8.88\n",
       "===================================================================================\n",
       "\n",
       "Warnings:\n",
       "[1] Covariance matrix calculated using the outer product of gradients (complex-step).\n",
       "\"\"\""
      ]
     },
     "execution_count": 16,
     "metadata": {},
     "output_type": "execute_result"
    }
   ],
   "source": [
    "# Output the model summary results:\n",
    "results_arima.summary()"
   ]
  },
  {
   "cell_type": "code",
   "execution_count": 17,
   "id": "91f4fbe3-847b-4cd3-8e44-aa362e3ad956",
   "metadata": {},
   "outputs": [
    {
     "data": {
      "text/plain": [
       "<AxesSubplot:>"
      ]
     },
     "execution_count": 17,
     "metadata": {},
     "output_type": "execute_result"
    },
    {
     "data": {
      "image/png": "[encoded data removed]",
      "text/plain": [
       "<Figure size 432x288 with 1 Axes>"
      ]
     },
     "metadata": {
      "needs_background": "light"
     },
     "output_type": "display_data"
    }
   ],
   "source": [
    "# Plot the 5 Day Returns Forecast\n",
    "fivedayARIMA_fc = results_arima.forecast(5, alpha=0.05, )\n",
    "pd.DataFrame(fivedayARIMA_fc).plot()"
   ]
  },
  {
   "cell_type": "markdown",
   "id": "279ea0c4-7f06-408f-8235-b5f4e7608980",
   "metadata": {},
   "source": [
    "##### What does the model forecast will happen to the Japanese Yen in the near term?"
   ]
  },
  {
   "cell_type": "markdown",
   "id": "6f4d1d19-f95b-4b2c-9729-526bc95822ad",
   "metadata": {},
   "source": [
    "##### In the near future the model is predicting that the Japanese Yen will increase in relative value, reaching close to a 1:1 exchange rate with the Canadian Dollar."
   ]
  },
  {
   "cell_type": "markdown",
   "id": "5dc9ae17-fcd0-4f3a-a964-29fa0069a403",
   "metadata": {},
   "source": [
    "### Volitility Forecasting with ARCH"
   ]
  },
  {
   "cell_type": "code",
   "execution_count": 19,
   "id": "602609fb-6a57-46cb-aff9-fc2bdcdd3b18",
   "metadata": {},
   "outputs": [],
   "source": [
    "# Import the required libraries\n",
    "import arch as arch\n",
    "from arch import arch_model"
   ]
  },
  {
   "cell_type": "code",
   "execution_count": 20,
   "id": "0681b24f-cd4c-4a03-9da8-d9a9415b68fd",
   "metadata": {},
   "outputs": [],
   "source": [
    "# Estimate a GARCH model:\n",
    "model_garch = arch_model(returns, mean=\"Zero\", vol=\"GARCH\", p=2, q=1)"
   ]
  },
  {
   "cell_type": "code",
   "execution_count": 21,
   "id": "16d2b3e4-aa5e-4ee1-a372-b199f9449dba",
   "metadata": {},
   "outputs": [],
   "source": [
    "# Fit the model\n",
    "res = model_garch.fit(disp=\"off\")"
   ]
  },
  {
   "cell_type": "code",
   "execution_count": 22,
   "id": "541ef4b0-a701-4bb8-b6cf-d41bf61c4f66",
   "metadata": {},
   "outputs": [
    {
     "data": {
      "text/html": [
       "<table class=\"simpletable\">\n",
       "<caption>Zero Mean - GARCH Model Results</caption>\n",
       "<tr>\n",
       "  <th>Dep. Variable:</th>       <td>Returns</td>      <th>  R-squared:         </th>  <td>   0.000</td> \n",
       "</tr>\n",
       "<tr>\n",
       "  <th>Mean Model:</th>         <td>Zero Mean</td>     <th>  Adj. R-squared:    </th>  <td>   0.000</td> \n",
       "</tr>\n",
       "<tr>\n",
       "  <th>Vol Model:</th>            <td>GARCH</td>       <th>  Log-Likelihood:    </th> <td>  -8911.02</td>\n",
       "</tr>\n",
       "<tr>\n",
       "  <th>Distribution:</th>        <td>Normal</td>       <th>  AIC:               </th> <td>   17830.0</td>\n",
       "</tr>\n",
       "<tr>\n",
       "  <th>Method:</th>        <td>Maximum Likelihood</td> <th>  BIC:               </th> <td>   17858.0</td>\n",
       "</tr>\n",
       "<tr>\n",
       "  <th></th>                        <td></td>          <th>  No. Observations:  </th>    <td>7928</td>   \n",
       "</tr>\n",
       "<tr>\n",
       "  <th>Date:</th>           <td>Wed, Jul 20 2022</td>  <th>  Df Residuals:      </th>    <td>7928</td>   \n",
       "</tr>\n",
       "<tr>\n",
       "  <th>Time:</th>               <td>23:12:12</td>      <th>  Df Model:          </th>      <td>0</td>    \n",
       "</tr>\n",
       "</table>\n",
       "<table class=\"simpletable\">\n",
       "<caption>Volatility Model</caption>\n",
       "<tr>\n",
       "      <td></td>        <th>coef</th>     <th>std err</th>      <th>t</th>       <th>P>|t|</th>      <th>95.0% Conf. Int.</th>   \n",
       "</tr>\n",
       "<tr>\n",
       "  <th>omega</th>    <td>9.0733e-03</td> <td>2.545e-03</td> <td>    3.566</td> <td>3.628e-04</td>  <td>[4.086e-03,1.406e-02]</td>\n",
       "</tr>\n",
       "<tr>\n",
       "  <th>alpha[1]</th> <td>    0.0624</td> <td>1.835e-02</td> <td>    3.402</td> <td>6.682e-04</td>  <td>[2.647e-02,9.841e-02]</td>\n",
       "</tr>\n",
       "<tr>\n",
       "  <th>alpha[2]</th>   <td>0.0000</td>   <td>2.010e-02</td>   <td>0.000</td>   <td>    1.000</td> <td>[-3.940e-02,3.940e-02]</td>\n",
       "</tr>\n",
       "<tr>\n",
       "  <th>beta[1]</th>  <td>    0.9243</td> <td>1.229e-02</td> <td>   75.205</td>   <td>0.000</td>      <td>[  0.900,  0.948]</td>  \n",
       "</tr>\n",
       "</table><br/><br/>Covariance estimator: robust"
      ],
      "text/plain": [
       "<class 'statsmodels.iolib.summary.Summary'>\n",
       "\"\"\"\n",
       "                       Zero Mean - GARCH Model Results                        \n",
       "==============================================================================\n",
       "Dep. Variable:                Returns   R-squared:                       0.000\n",
       "Mean Model:                 Zero Mean   Adj. R-squared:                  0.000\n",
       "Vol Model:                      GARCH   Log-Likelihood:               -8911.02\n",
       "Distribution:                  Normal   AIC:                           17830.0\n",
       "Method:            Maximum Likelihood   BIC:                           17858.0\n",
       "                                        No. Observations:                 7928\n",
       "Date:                Wed, Jul 20 2022   Df Residuals:                     7928\n",
       "Time:                        23:12:12   Df Model:                            0\n",
       "                               Volatility Model                              \n",
       "=============================================================================\n",
       "                 coef    std err          t      P>|t|       95.0% Conf. Int.\n",
       "-----------------------------------------------------------------------------\n",
       "omega      9.0733e-03  2.545e-03      3.566  3.628e-04  [4.086e-03,1.406e-02]\n",
       "alpha[1]       0.0624  1.835e-02      3.402  6.682e-04  [2.647e-02,9.841e-02]\n",
       "alpha[2]       0.0000  2.010e-02      0.000      1.000 [-3.940e-02,3.940e-02]\n",
       "beta[1]        0.9243  1.229e-02     75.205      0.000      [  0.900,  0.948]\n",
       "=============================================================================\n",
       "\n",
       "Covariance estimator: robust\n",
       "\"\"\""
      ]
     },
     "execution_count": 22,
     "metadata": {},
     "output_type": "execute_result"
    }
   ],
   "source": [
    "# Summarize the model results\n",
    "res.summary()"
   ]
  },
  {
   "cell_type": "code",
   "execution_count": 23,
   "id": "944cf404-8953-4661-a234-8d6eae04c92e",
   "metadata": {},
   "outputs": [
    {
     "data": {
      "text/plain": [
       "'2020-06-04'"
      ]
     },
     "execution_count": 23,
     "metadata": {},
     "output_type": "execute_result"
    }
   ],
   "source": [
    "# What is the last day of the dataset\n",
    "last_day = returns.index.max().strftime('%Y-%m-%d')\n",
    "last_day"
   ]
  },
  {
   "cell_type": "code",
   "execution_count": 24,
   "id": "7fc94a38-b060-40e9-8e78-e96961e58312",
   "metadata": {},
   "outputs": [],
   "source": [
    "# Create a 5 day forecast of volatility\n",
    "forecast_horizon = 5"
   ]
  },
  {
   "cell_type": "code",
   "execution_count": 25,
   "id": "cb739199-6cf6-490b-8d4e-d0ecb7a8913e",
   "metadata": {},
   "outputs": [],
   "source": [
    "# Start the forecast using the last_day calculated above\n",
    "forecasts = res.forecast(start=last_day, horizon=forecast_horizon)"
   ]
  },
  {
   "cell_type": "code",
   "execution_count": 26,
   "id": "eb8b949e-7fc9-4040-aa3a-4af00645b23b",
   "metadata": {},
   "outputs": [
    {
     "data": {
      "text/html": [
       "<div>\n",
       "<style scoped>\n",
       "    .dataframe tbody tr th:only-of-type {\n",
       "        vertical-align: middle;\n",
       "    }\n",
       "\n",
       "    .dataframe tbody tr th {\n",
       "        vertical-align: top;\n",
       "    }\n",
       "\n",
       "    .dataframe thead th {\n",
       "        text-align: right;\n",
       "    }\n",
       "</style>\n",
       "<table border=\"1\" class=\"dataframe\">\n",
       "  <thead>\n",
       "    <tr style=\"text-align: right;\">\n",
       "      <th></th>\n",
       "      <th>h.1</th>\n",
       "      <th>h.2</th>\n",
       "      <th>h.3</th>\n",
       "      <th>h.4</th>\n",
       "      <th>h.5</th>\n",
       "    </tr>\n",
       "    <tr>\n",
       "      <th>Date</th>\n",
       "      <th></th>\n",
       "      <th></th>\n",
       "      <th></th>\n",
       "      <th></th>\n",
       "      <th></th>\n",
       "    </tr>\n",
       "  </thead>\n",
       "  <tbody>\n",
       "    <tr>\n",
       "      <th>2020-06-04</th>\n",
       "      <td>12.566029</td>\n",
       "      <td>12.573718</td>\n",
       "      <td>12.581301</td>\n",
       "      <td>12.588778</td>\n",
       "      <td>12.596153</td>\n",
       "    </tr>\n",
       "  </tbody>\n",
       "</table>\n",
       "</div>"
      ],
      "text/plain": [
       "                  h.1        h.2        h.3        h.4        h.5\n",
       "Date                                                             \n",
       "2020-06-04  12.566029  12.573718  12.581301  12.588778  12.596153"
      ]
     },
     "execution_count": 26,
     "metadata": {},
     "output_type": "execute_result"
    }
   ],
   "source": [
    "# Annualize the forecast\n",
    "intermediate = np.sqrt(forecasts.variance.dropna() * 252)\n",
    "intermediate.head()"
   ]
  },
  {
   "cell_type": "code",
   "execution_count": 29,
   "id": "01a2c22e-5dd3-4d46-bfbf-dd82be1bc9ec",
   "metadata": {},
   "outputs": [
    {
     "data": {
      "text/html": [
       "<div>\n",
       "<style scoped>\n",
       "    .dataframe tbody tr th:only-of-type {\n",
       "        vertical-align: middle;\n",
       "    }\n",
       "\n",
       "    .dataframe tbody tr th {\n",
       "        vertical-align: top;\n",
       "    }\n",
       "\n",
       "    .dataframe thead th {\n",
       "        text-align: right;\n",
       "    }\n",
       "</style>\n",
       "<table border=\"1\" class=\"dataframe\">\n",
       "  <thead>\n",
       "    <tr style=\"text-align: right;\">\n",
       "      <th>Date</th>\n",
       "      <th>2020-06-04</th>\n",
       "    </tr>\n",
       "  </thead>\n",
       "  <tbody>\n",
       "    <tr>\n",
       "      <th>h.1</th>\n",
       "      <td>12.566029</td>\n",
       "    </tr>\n",
       "    <tr>\n",
       "      <th>h.2</th>\n",
       "      <td>12.573718</td>\n",
       "    </tr>\n",
       "    <tr>\n",
       "      <th>h.3</th>\n",
       "      <td>12.581301</td>\n",
       "    </tr>\n",
       "    <tr>\n",
       "      <th>h.4</th>\n",
       "      <td>12.588778</td>\n",
       "    </tr>\n",
       "    <tr>\n",
       "      <th>h.5</th>\n",
       "      <td>12.596153</td>\n",
       "    </tr>\n",
       "  </tbody>\n",
       "</table>\n",
       "</div>"
      ],
      "text/plain": [
       "Date  2020-06-04\n",
       "h.1    12.566029\n",
       "h.2    12.573718\n",
       "h.3    12.581301\n",
       "h.4    12.588778\n",
       "h.5    12.596153"
      ]
     },
     "execution_count": 29,
     "metadata": {},
     "output_type": "execute_result"
    }
   ],
   "source": [
    "# Transpose the forecast to make it easier to plot\n",
    "final_arch = intermediate.dropna().T\n",
    "final_arch.head(10)"
   ]
  },
  {
   "cell_type": "code",
   "execution_count": 31,
   "id": "20c4ad7e-1cc6-4a05-ae2a-4a9b5cc74055",
   "metadata": {},
   "outputs": [
    {
     "data": {
      "image/png": "[encoded data removed]",
      "text/plain": [
       "<Figure size 432x288 with 1 Axes>"
      ]
     },
     "metadata": {
      "needs_background": "light"
     },
     "output_type": "display_data"
    }
   ],
   "source": [
    "# Plot the final forecast\n",
    "final_arch.plot(title = '5 Day Forecast of Volatility for CAD-JPY')\n",
    "plt.show()"
   ]
  },
  {
   "cell_type": "markdown",
   "id": "8c8c72b3-e849-41b1-8ce2-460f18a10ec3",
   "metadata": {},
   "source": [
    "##### What does the model forecast will happen to volitility in the near future?"
   ]
  },
  {
   "cell_type": "markdown",
   "id": "c6106424-18ca-429a-a327-f843d9f6f165",
   "metadata": {},
   "source": [
    "##### The model's results predict that volitility will be increasing in the near future."
   ]
  },
  {
   "cell_type": "markdown",
   "id": "0b5e83cb-fcf4-4c74-93b0-df434d466492",
   "metadata": {},
   "source": [
    "### Conculsions from the CAD-JPY Time-Series Analysis"
   ]
  },
  {
   "cell_type": "markdown",
   "id": "e38e7dca-5de8-440a-841e-a70dda13cb77",
   "metadata": {},
   "source": [
    "##### Based on the analysis, would you buy Yen now?"
   ]
  },
  {
   "cell_type": "markdown",
   "id": "decc674f-320e-47cf-8161-f7a5549cd6a0",
   "metadata": {},
   "source": [
    "##### After the analysis I have ran, I would determine that now is not agod time to buy Yen. This is because the overall trend of the exchange shows that the relative value of Yen is decreasing. As well, the overall volitility ofthe exchange is predicted to continue increasing."
   ]
  },
  {
   "cell_type": "markdown",
   "id": "dccd3d7f-ac46-4b3b-a0de-a38dc2f8251d",
   "metadata": {},
   "source": [
    "<br>"
   ]
  },
  {
   "cell_type": "markdown",
   "id": "0e5b0906-e2fe-4a9a-a9d7-d5efa919935d",
   "metadata": {},
   "source": [
    "##### Is the risk of Yen excpected to increase of decrease?"
   ]
  },
  {
   "cell_type": "markdown",
   "id": "0110c9fd-421a-4b5f-bda9-3078c6700ca6",
   "metadata": {},
   "source": [
    "##### The analysis has shown that the risk of Yen is expected to increase."
   ]
  },
  {
   "cell_type": "markdown",
   "id": "622907d1-a3ae-4c3c-9045-39c5f261c3b5",
   "metadata": {},
   "source": [
    "<br>"
   ]
  },
  {
   "cell_type": "markdown",
   "id": "4f97f62f-7899-4683-8bc9-d023f765e8f9",
   "metadata": {},
   "source": [
    "##### Based on the model evaluation, would you feel confident in using these models for trading?"
   ]
  },
  {
   "cell_type": "markdown",
   "id": "a4159bc0-cbc8-4043-a65a-78374c0cce03",
   "metadata": {},
   "source": [
    "##### I would consider usinhg the results of the ARCH model in my decisions regarding this exchange. However I would not use it as a sole indicator but rather as a supplementary indicator. In regard to the ARMA and ARIMA models, I would not feel confident in using either of these models are a research tool based on there current parameters."
   ]
  }
 ],
 "metadata": {
  "kernelspec": {
   "display_name": "Python 3 (ipykernel)",
   "language": "python",
   "name": "python3"
  },
  "language_info": {
   "codemirror_mode": {
    "name": "ipython",
    "version": 3
   },
   "file_extension": ".py",
   "mimetype": "text/x-python",
   "name": "python",
   "nbconvert_exporter": "python",
   "pygments_lexer": "ipython3",
   "version": "3.7.13"
  }
 },
 "nbformat": 4,
 "nbformat_minor": 5
}
